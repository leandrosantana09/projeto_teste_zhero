{
 "cells": [
  {
   "cell_type": "code",
   "execution_count": 1,
   "metadata": {},
   "outputs": [],
   "source": [
    "# imports básicos\n",
    "import pandas as pd\n",
    "\n",
    "import warnings\n",
    "warnings.filterwarnings(\"ignore\")"
   ]
  },
  {
   "attachments": {},
   "cell_type": "markdown",
   "metadata": {},
   "source": [
    "# Carregamento dos dados"
   ]
  },
  {
   "cell_type": "code",
   "execution_count": 2,
   "metadata": {},
   "outputs": [
    {
     "data": {
      "text/html": [
       "<div>\n",
       "<style scoped>\n",
       "    .dataframe tbody tr th:only-of-type {\n",
       "        vertical-align: middle;\n",
       "    }\n",
       "\n",
       "    .dataframe tbody tr th {\n",
       "        vertical-align: top;\n",
       "    }\n",
       "\n",
       "    .dataframe thead th {\n",
       "        text-align: right;\n",
       "    }\n",
       "</style>\n",
       "<table border=\"1\" class=\"dataframe\">\n",
       "  <thead>\n",
       "    <tr style=\"text-align: right;\">\n",
       "      <th></th>\n",
       "      <th>Data Resposta</th>\n",
       "      <th>Marca</th>\n",
       "      <th>Marca (Outro Qual?)</th>\n",
       "      <th>Satisfação Geral</th>\n",
       "      <th>Motivos da Satisfação</th>\n",
       "      <th>Expectativa Atendida</th>\n",
       "      <th>Qualidade Percebida</th>\n",
       "      <th>NPS</th>\n",
       "      <th>Gênero</th>\n",
       "      <th>Faixa Etária</th>\n",
       "      <th>Formação</th>\n",
       "      <th>Ocupação</th>\n",
       "      <th>Classe Econômica</th>\n",
       "      <th>UF</th>\n",
       "    </tr>\n",
       "    <tr>\n",
       "      <th>ID</th>\n",
       "      <th></th>\n",
       "      <th></th>\n",
       "      <th></th>\n",
       "      <th></th>\n",
       "      <th></th>\n",
       "      <th></th>\n",
       "      <th></th>\n",
       "      <th></th>\n",
       "      <th></th>\n",
       "      <th></th>\n",
       "      <th></th>\n",
       "      <th></th>\n",
       "      <th></th>\n",
       "      <th></th>\n",
       "    </tr>\n",
       "  </thead>\n",
       "  <tbody>\n",
       "    <tr>\n",
       "      <th>1</th>\n",
       "      <td>2022-08-16 18:58:06</td>\n",
       "      <td>Marca 5</td>\n",
       "      <td>NaN</td>\n",
       "      <td>Satisfeito</td>\n",
       "      <td>Qualidade||Funcionalidade||Atendimento</td>\n",
       "      <td>Dentro das Expectativas</td>\n",
       "      <td>Próximo ao Ideal</td>\n",
       "      <td>9</td>\n",
       "      <td>Masculino</td>\n",
       "      <td>45 a 59 anos</td>\n",
       "      <td>Pós-graduação / Mestrado</td>\n",
       "      <td>Funcionário público</td>\n",
       "      <td>de 7.100 a 22.000</td>\n",
       "      <td>AL</td>\n",
       "    </tr>\n",
       "    <tr>\n",
       "      <th>2</th>\n",
       "      <td>2022-08-17 09:04:08</td>\n",
       "      <td>Marca 5</td>\n",
       "      <td>NaN</td>\n",
       "      <td>Nem satisfeito nem insatisfeito</td>\n",
       "      <td>Atendimento</td>\n",
       "      <td>Dentro das Expectativas</td>\n",
       "      <td>É um plano regular</td>\n",
       "      <td>5</td>\n",
       "      <td>Feminino</td>\n",
       "      <td>45 a 59 anos</td>\n",
       "      <td>Ensino superior completo</td>\n",
       "      <td>Empresário</td>\n",
       "      <td>De 2.900 a 7.100 reais</td>\n",
       "      <td>AL</td>\n",
       "    </tr>\n",
       "    <tr>\n",
       "      <th>3</th>\n",
       "      <td>2022-08-25 14:48:14</td>\n",
       "      <td>Marca 1</td>\n",
       "      <td>NaN</td>\n",
       "      <td>Satisfeito</td>\n",
       "      <td>Qualidade||Local||Funcionalidade</td>\n",
       "      <td>Dentro das Expectativas</td>\n",
       "      <td>Próximo ao Ideal</td>\n",
       "      <td>8</td>\n",
       "      <td>Masculino</td>\n",
       "      <td>25 a 34 anos</td>\n",
       "      <td>Pós-graduação / Mestrado</td>\n",
       "      <td>Funcionário público</td>\n",
       "      <td>de 7.100 a 22.000</td>\n",
       "      <td>AM</td>\n",
       "    </tr>\n",
       "    <tr>\n",
       "      <th>4</th>\n",
       "      <td>2022-08-17 17:42:31</td>\n",
       "      <td>Marca 4</td>\n",
       "      <td>NaN</td>\n",
       "      <td>Satisfeito</td>\n",
       "      <td>Local</td>\n",
       "      <td>Acima das Expectativas</td>\n",
       "      <td>Muito próximo do ideal</td>\n",
       "      <td>9</td>\n",
       "      <td>Masculino</td>\n",
       "      <td>35 a 44 anos</td>\n",
       "      <td>Ensino superior incompleto</td>\n",
       "      <td>Autônomo</td>\n",
       "      <td>Prefiro não responder</td>\n",
       "      <td>AM</td>\n",
       "    </tr>\n",
       "    <tr>\n",
       "      <th>5</th>\n",
       "      <td>2022-08-19 20:16:46</td>\n",
       "      <td>Outro (qual?)</td>\n",
       "      <td>um</td>\n",
       "      <td>Muito Satisfeito</td>\n",
       "      <td>Local</td>\n",
       "      <td>Acima das Expectativas</td>\n",
       "      <td>Próximo ao Ideal</td>\n",
       "      <td>10</td>\n",
       "      <td>Masculino</td>\n",
       "      <td>45 a 59 anos</td>\n",
       "      <td>Ensino superior completo</td>\n",
       "      <td>Empresário</td>\n",
       "      <td>de 7.100 a 22.000</td>\n",
       "      <td>AM</td>\n",
       "    </tr>\n",
       "  </tbody>\n",
       "</table>\n",
       "</div>"
      ],
      "text/plain": [
       "         Data Resposta          Marca Marca (Outro Qual?)   \n",
       "ID                                                          \n",
       "1  2022-08-16 18:58:06        Marca 5                 NaN  \\\n",
       "2  2022-08-17 09:04:08        Marca 5                 NaN   \n",
       "3  2022-08-25 14:48:14        Marca 1                 NaN   \n",
       "4  2022-08-17 17:42:31        Marca 4                 NaN   \n",
       "5  2022-08-19 20:16:46  Outro (qual?)                  um   \n",
       "\n",
       "                   Satisfação Geral                   Motivos da Satisfação   \n",
       "ID                                                                            \n",
       "1                        Satisfeito  Qualidade||Funcionalidade||Atendimento  \\\n",
       "2   Nem satisfeito nem insatisfeito                             Atendimento   \n",
       "3                        Satisfeito        Qualidade||Local||Funcionalidade   \n",
       "4                        Satisfeito                                   Local   \n",
       "5                  Muito Satisfeito                                   Local   \n",
       "\n",
       "      Expectativa Atendida      Qualidade Percebida  NPS     Gênero   \n",
       "ID                                                                    \n",
       "1   Dentro das Expectativas        Próximo ao Ideal    9  Masculino  \\\n",
       "2   Dentro das Expectativas      É um plano regular    5   Feminino   \n",
       "3   Dentro das Expectativas        Próximo ao Ideal    8  Masculino   \n",
       "4    Acima das Expectativas  Muito próximo do ideal    9  Masculino   \n",
       "5    Acima das Expectativas        Próximo ao Ideal   10  Masculino   \n",
       "\n",
       "    Faixa Etária                    Formação             Ocupação   \n",
       "ID                                                                  \n",
       "1   45 a 59 anos    Pós-graduação / Mestrado  Funcionário público  \\\n",
       "2   45 a 59 anos    Ensino superior completo           Empresário   \n",
       "3   25 a 34 anos    Pós-graduação / Mestrado  Funcionário público   \n",
       "4   35 a 44 anos  Ensino superior incompleto             Autônomo   \n",
       "5   45 a 59 anos    Ensino superior completo           Empresário   \n",
       "\n",
       "          Classe Econômica  UF  \n",
       "ID                              \n",
       "1        de 7.100 a 22.000  AL  \n",
       "2   De 2.900 a 7.100 reais  AL  \n",
       "3        de 7.100 a 22.000  AM  \n",
       "4    Prefiro não responder  AM  \n",
       "5        de 7.100 a 22.000  AM  "
      ]
     },
     "execution_count": 2,
     "metadata": {},
     "output_type": "execute_result"
    }
   ],
   "source": [
    "base = pd.read_excel('dados/base_projeto_teste.xlsx',\n",
    "                     usecols='A:O',   # usando as colunas de A:0      \n",
    "                     index_col=0      # ID fixado como índice\n",
    "                     )\n",
    "base.head()"
   ]
  },
  {
   "attachments": {},
   "cell_type": "markdown",
   "metadata": {},
   "source": [
    "Retirando espaços antes e depois dos nomes das colunas:"
   ]
  },
  {
   "cell_type": "code",
   "execution_count": 3,
   "metadata": {},
   "outputs": [
    {
     "data": {
      "text/plain": [
       "Index(['Data Resposta', 'Marca', 'Marca (Outro Qual?)', 'Satisfação Geral',\n",
       "       'Motivos da Satisfação', 'Expectativa Atendida', 'Qualidade Percebida',\n",
       "       'NPS', 'Gênero', 'Faixa Etária', 'Formação', 'Ocupação',\n",
       "       'Classe Econômica', 'UF'],\n",
       "      dtype='object')"
      ]
     },
     "execution_count": 3,
     "metadata": {},
     "output_type": "execute_result"
    }
   ],
   "source": [
    "base.columns = [col.strip() for col in base.columns]\n",
    "base.columns"
   ]
  },
  {
   "attachments": {},
   "cell_type": "markdown",
   "metadata": {},
   "source": [
    "Reordenando o DataFrame pela ordem da coluna 'Data Resposta':"
   ]
  },
  {
   "cell_type": "code",
   "execution_count": 4,
   "metadata": {},
   "outputs": [],
   "source": [
    "base.sort_values(by='Data Resposta', inplace=True)"
   ]
  },
  {
   "attachments": {},
   "cell_type": "markdown",
   "metadata": {},
   "source": [
    "A linha 46 é a única que tem dados referentes a setembro, de forma a não trazer padrões aos dados, desta forma optei por retira-la,"
   ]
  },
  {
   "cell_type": "code",
   "execution_count": 5,
   "metadata": {},
   "outputs": [],
   "source": [
    "base.drop(46, inplace=True)"
   ]
  },
  {
   "attachments": {},
   "cell_type": "markdown",
   "metadata": {},
   "source": [
    "Desta forma, vamos ver como está a estrutura dos dados,"
   ]
  },
  {
   "cell_type": "code",
   "execution_count": 6,
   "metadata": {},
   "outputs": [
    {
     "name": "stdout",
     "output_type": "stream",
     "text": [
      "<class 'pandas.core.frame.DataFrame'>\n",
      "Index: 199 entries, 137 to 75\n",
      "Data columns (total 14 columns):\n",
      " #   Column                 Non-Null Count  Dtype         \n",
      "---  ------                 --------------  -----         \n",
      " 0   Data Resposta          199 non-null    datetime64[ns]\n",
      " 1   Marca                  199 non-null    object        \n",
      " 2   Marca (Outro Qual?)    67 non-null     object        \n",
      " 3   Satisfação Geral       199 non-null    object        \n",
      " 4   Motivos da Satisfação  199 non-null    object        \n",
      " 5   Expectativa Atendida   199 non-null    object        \n",
      " 6   Qualidade Percebida    199 non-null    object        \n",
      " 7   NPS                    199 non-null    int64         \n",
      " 8   Gênero                 199 non-null    object        \n",
      " 9   Faixa Etária           199 non-null    object        \n",
      " 10  Formação               199 non-null    object        \n",
      " 11  Ocupação               199 non-null    object        \n",
      " 12  Classe Econômica       199 non-null    object        \n",
      " 13  UF                     199 non-null    object        \n",
      "dtypes: datetime64[ns](1), int64(1), object(12)\n",
      "memory usage: 23.3+ KB\n"
     ]
    }
   ],
   "source": [
    "base.info()"
   ]
  },
  {
   "attachments": {},
   "cell_type": "markdown",
   "metadata": {},
   "source": [
    "Detalhes importantes,\n",
    "\n",
    "- 'Data Resposta' já está no formato de data\n",
    "- Apenas NPS é numérico."
   ]
  },
  {
   "attachments": {},
   "cell_type": "markdown",
   "metadata": {},
   "source": [
    "Vamos separar dos dados para análises separadas."
   ]
  },
  {
   "attachments": {},
   "cell_type": "markdown",
   "metadata": {},
   "source": [
    "# 1 - Tempo"
   ]
  },
  {
   "cell_type": "code",
   "execution_count": 7,
   "metadata": {},
   "outputs": [
    {
     "data": {
      "text/html": [
       "<div>\n",
       "<style scoped>\n",
       "    .dataframe tbody tr th:only-of-type {\n",
       "        vertical-align: middle;\n",
       "    }\n",
       "\n",
       "    .dataframe tbody tr th {\n",
       "        vertical-align: top;\n",
       "    }\n",
       "\n",
       "    .dataframe thead th {\n",
       "        text-align: right;\n",
       "    }\n",
       "</style>\n",
       "<table border=\"1\" class=\"dataframe\">\n",
       "  <thead>\n",
       "    <tr style=\"text-align: right;\">\n",
       "      <th></th>\n",
       "      <th>Data Resposta</th>\n",
       "      <th>Dia_de_semana</th>\n",
       "      <th>Horario</th>\n",
       "      <th>Dia</th>\n",
       "    </tr>\n",
       "    <tr>\n",
       "      <th>ID</th>\n",
       "      <th></th>\n",
       "      <th></th>\n",
       "      <th></th>\n",
       "      <th></th>\n",
       "    </tr>\n",
       "  </thead>\n",
       "  <tbody>\n",
       "    <tr>\n",
       "      <th>137</th>\n",
       "      <td>2022-08-09 16:39:15</td>\n",
       "      <td>Tuesday</td>\n",
       "      <td>16:39:15</td>\n",
       "      <td>2022-08-09</td>\n",
       "    </tr>\n",
       "    <tr>\n",
       "      <th>138</th>\n",
       "      <td>2022-08-09 16:42:49</td>\n",
       "      <td>Tuesday</td>\n",
       "      <td>16:42:49</td>\n",
       "      <td>2022-08-09</td>\n",
       "    </tr>\n",
       "    <tr>\n",
       "      <th>185</th>\n",
       "      <td>2022-08-09 17:29:25</td>\n",
       "      <td>Tuesday</td>\n",
       "      <td>17:29:25</td>\n",
       "      <td>2022-08-09</td>\n",
       "    </tr>\n",
       "    <tr>\n",
       "      <th>160</th>\n",
       "      <td>2022-08-09 18:09:03</td>\n",
       "      <td>Tuesday</td>\n",
       "      <td>18:09:03</td>\n",
       "      <td>2022-08-09</td>\n",
       "    </tr>\n",
       "    <tr>\n",
       "      <th>147</th>\n",
       "      <td>2022-08-09 18:30:13</td>\n",
       "      <td>Tuesday</td>\n",
       "      <td>18:30:13</td>\n",
       "      <td>2022-08-09</td>\n",
       "    </tr>\n",
       "  </tbody>\n",
       "</table>\n",
       "</div>"
      ],
      "text/plain": [
       "          Data Resposta Dia_de_semana    Horario         Dia\n",
       "ID                                                          \n",
       "137 2022-08-09 16:39:15       Tuesday   16:39:15  2022-08-09\n",
       "138 2022-08-09 16:42:49       Tuesday   16:42:49  2022-08-09\n",
       "185 2022-08-09 17:29:25       Tuesday   17:29:25  2022-08-09\n",
       "160 2022-08-09 18:09:03       Tuesday   18:09:03  2022-08-09\n",
       "147 2022-08-09 18:30:13       Tuesday   18:30:13  2022-08-09"
      ]
     },
     "execution_count": 7,
     "metadata": {},
     "output_type": "execute_result"
    }
   ],
   "source": [
    "base['Dia_de_semana'] = base['Data Resposta'].dt.day_name()   # convertendo os dias para dias de semana\n",
    "base['Dia'] = base['Data Resposta'].astype(str).str[:10]      # separando apenas o dia XXXX-YY-ZZ \n",
    "base['Horario'] = base['Data Resposta'].astype(str).str[10:]  # separando apenas a hora XX:YY:ZZ\n",
    "\n",
    "base[['Data Resposta', 'Dia_de_semana', 'Horario', 'Dia']].head()\n"
   ]
  },
  {
   "attachments": {},
   "cell_type": "markdown",
   "metadata": {},
   "source": [
    "# 2 - Satisfação"
   ]
  },
  {
   "attachments": {},
   "cell_type": "markdown",
   "metadata": {},
   "source": [
    "A coluna 'Motivos da Satisfação' tem muitos valores distindos, de forma a dificultar sua vizualização, assim, decidi trocar todos os valores que representam mais de um motivo, pela expressão 'Mais de um motivo',"
   ]
  },
  {
   "cell_type": "code",
   "execution_count": 8,
   "metadata": {},
   "outputs": [
    {
     "data": {
      "text/plain": [
       "Motivos da Satisfação\n",
       "Mais de um motivo         127\n",
       "Custo-Benefício            21\n",
       "Local                      14\n",
       "Funcionalidade             11\n",
       "Nenhuma das anteriores      9\n",
       "Qualidade                   7\n",
       "Facilidade                  4\n",
       "Atendimento                 4\n",
       "Comunicação                 2\n",
       "Name: count, dtype: int64"
      ]
     },
     "execution_count": 8,
     "metadata": {},
     "output_type": "execute_result"
    }
   ],
   "source": [
    "base.loc[base['Motivos da Satisfação'].str.contains('||', regex=False), 'Motivos da Satisfação'] = 'Mais de um motivo'\n",
    "\n",
    "base['Motivos da Satisfação'].value_counts()"
   ]
  },
  {
   "attachments": {},
   "cell_type": "markdown",
   "metadata": {},
   "source": [
    "O mesmo problema de quantidade diferente de valores, se encontra nas colunas 'Satisfação Geral' e 'Expectativa Atendida', assim vamos redimensionar os dados para apenas 3 valores(classes) diferentes, para cada coluna,"
   ]
  },
  {
   "cell_type": "code",
   "execution_count": 9,
   "metadata": {},
   "outputs": [
    {
     "data": {
      "text/plain": [
       "Satisfação Geral\n",
       "Positiva    145\n",
       "Neutra       36\n",
       "Negativa     18\n",
       "Name: count, dtype: int64"
      ]
     },
     "execution_count": 9,
     "metadata": {},
     "output_type": "execute_result"
    }
   ],
   "source": [
    "base.loc[base['Satisfação Geral'].str.contains('Muito Satisfeito|Satisfeito'), 'Satisfação Geral'] = 'Positiva'\n",
    "base.loc[base['Satisfação Geral'].str.contains('Muito Insatisfeito|Insatisfeito'), 'Satisfação Geral'] = 'Negativa'\n",
    "base.loc[base['Satisfação Geral'].str.contains('Nem satisfeito nem insatisfeito'), 'Satisfação Geral'] = 'Neutra'\n",
    "base['Satisfação Geral'].value_counts()"
   ]
  },
  {
   "cell_type": "code",
   "execution_count": 10,
   "metadata": {},
   "outputs": [
    {
     "data": {
      "text/plain": [
       "Expectativa Atendida\n",
       "Dentro das Expectativas    131\n",
       "Acima das Expectativas      36\n",
       "Abaixo das Expectativas     32\n",
       "Name: count, dtype: int64"
      ]
     },
     "execution_count": 10,
     "metadata": {},
     "output_type": "execute_result"
    }
   ],
   "source": [
    "base.loc[base['Expectativa Atendida'].str.contains('Acima das Expectativas|Muito Acima das Expectativas '), 'Expectativa Atendida'] = 'Acima das Expectativas'\n",
    "base.loc[base['Expectativa Atendida'].str.contains('Abaixo das Expectativas|Muito Abaixo das Expectativas'), 'Expectativa Atendida'] = 'Abaixo das Expectativas'\n",
    "base.loc[base['Expectativa Atendida'].str.contains('Dentro'), 'Expectativa Atendida'] = 'Dentro das Expectativas'\n",
    "base['Expectativa Atendida'].value_counts()"
   ]
  },
  {
   "attachments": {},
   "cell_type": "markdown",
   "metadata": {},
   "source": [
    "- É importente notar que as classes 'Positiva' e 'Dentro das Expectativas' se destacam tendo mais que o *dobro* da soma dos outros valores."
   ]
  },
  {
   "attachments": {},
   "cell_type": "markdown",
   "metadata": {},
   "source": [
    "# 3 - Marca"
   ]
  },
  {
   "attachments": {},
   "cell_type": "markdown",
   "metadata": {},
   "source": [
    "A coluna 'Marca (Outro Qual?)' e 'Marca' se completam, para tal tarefa vamos analisar a primeira coluna,"
   ]
  },
  {
   "cell_type": "code",
   "execution_count": 11,
   "metadata": {},
   "outputs": [
    {
     "data": {
      "text/plain": [
       "ID\n",
       "137                     nan\n",
       "138                    nove\n",
       "185        gosto da marca 2\n",
       "160                   três \n",
       "147    Prefiro não informar\n",
       "               ...         \n",
       "6                       nan\n",
       "55                      nan\n",
       "33                      nan\n",
       "86                      nan\n",
       "75                      nan\n",
       "Name: Marca (Outro Qual?), Length: 199, dtype: object"
      ]
     },
     "execution_count": 11,
     "metadata": {},
     "output_type": "execute_result"
    }
   ],
   "source": [
    "base['Marca (Outro Qual?)'] = base['Marca (Outro Qual?)'].astype(str) # transformando em str para ajudar a análise\n",
    "base['Marca (Outro Qual?)'] "
   ]
  },
  {
   "attachments": {},
   "cell_type": "markdown",
   "metadata": {},
   "source": [
    "Existe uma grande quantidade de valores que representam a mesma classe, assim, vou usar a função *for* para agrupar tais valores,"
   ]
  },
  {
   "cell_type": "code",
   "execution_count": 12,
   "metadata": {},
   "outputs": [
    {
     "data": {
      "text/plain": [
       "Marca\n",
       "Marca 5     70\n",
       "Marca 3     24\n",
       "Marca 1     19\n",
       "Outros      17\n",
       "Marca 9     16\n",
       "Marca 4     13\n",
       "Marca 10     8\n",
       "Marca 7      7\n",
       "Marca 6      6\n",
       "Marca 2      5\n",
       "Marca 8      5\n",
       "Marca 13     3\n",
       "Marca 11     3\n",
       "Marca 12     2\n",
       "Marca 14     1\n",
       "Name: count, dtype: int64"
      ]
     },
     "execution_count": 12,
     "metadata": {},
     "output_type": "execute_result"
    }
   ],
   "source": [
    "lista = ['Prefiro não informar', 'um', 'dois|marca 2', 'três', 'quatro|marca 4', 'cinco', 'seis|6', 'sete|7', 'oito|8', 'nove|9', 'dez|10', 'onze', 'doze|12', 'treze|13', 'quatorze|14']\n",
    "lista2 = ['Outros', 'Marca 1', 'Marca 2', 'Marca 3', 'Marca 4', 'Marca 5', 'Marca 6', 'Marca 7', 'Marca 8', 'Marca 9', 'Marca 10', 'Marca 11', 'Marca 12', 'Marca 13', 'Marca 14']\n",
    "\n",
    "for x, y in zip(lista, lista2):\n",
    "    base.loc[base['Marca (Outro Qual?)'].str.contains(x), 'Marca (Outro Qual?)'] = y\n",
    "\n",
    "base.loc[base['Marca (Outro Qual?)'].str.contains('marca'), 'Marca (Outro Qual?)'] = 'Outros'\n",
    "\n",
    "base.loc[base['Marca'].str.contains('Outro (qual?)', regex=False), 'Marca'] = base['Marca (Outro Qual?)']\n",
    "\n",
    "base['Marca'].value_counts()"
   ]
  },
  {
   "attachments": {},
   "cell_type": "markdown",
   "metadata": {},
   "source": [
    "# 4 - Identificação do cliente"
   ]
  },
  {
   "attachments": {},
   "cell_type": "markdown",
   "metadata": {},
   "source": [
    "De forma parecida com os grupos anteriores, vamos reagrupar os valores,"
   ]
  },
  {
   "cell_type": "code",
   "execution_count": 13,
   "metadata": {},
   "outputs": [
    {
     "data": {
      "text/plain": [
       "Faixa Etária\n",
       "35 a 44 anos       65\n",
       "45 a 59 anos       53\n",
       "17 a 34 anos       48\n",
       "60 anos ou mais    33\n",
       "Name: count, dtype: int64"
      ]
     },
     "execution_count": 13,
     "metadata": {},
     "output_type": "execute_result"
    }
   ],
   "source": [
    "base.loc[base['Faixa Etária'].str.contains('17 anos ou menos|18 a 24 anos|25 a 34 anos'), 'Faixa Etária'] = '17 a 34 anos'\n",
    "base['Faixa Etária'].value_counts()"
   ]
  },
  {
   "cell_type": "code",
   "execution_count": 14,
   "metadata": {},
   "outputs": [
    {
     "data": {
      "text/plain": [
       "Formação\n",
       "Pós-graduação / Mestrado    76\n",
       "Ensino superior completo    63\n",
       "Outros                      60\n",
       "Name: count, dtype: int64"
      ]
     },
     "execution_count": 14,
     "metadata": {},
     "output_type": "execute_result"
    }
   ],
   "source": [
    "base.loc[base['Formação'].str.contains('Ensino superior incompleto|Ensino médio|Ensino fundamental'), 'Formação'] = 'Outros'\n",
    "base['Formação'].value_counts()"
   ]
  },
  {
   "attachments": {},
   "cell_type": "markdown",
   "metadata": {},
   "source": [
    "# Base principal"
   ]
  },
  {
   "attachments": {},
   "cell_type": "markdown",
   "metadata": {},
   "source": [
    "Desta forma, a base de dados final, fica da seguinte forma,"
   ]
  },
  {
   "cell_type": "code",
   "execution_count": 15,
   "metadata": {},
   "outputs": [
    {
     "data": {
      "text/html": [
       "<div>\n",
       "<style scoped>\n",
       "    .dataframe tbody tr th:only-of-type {\n",
       "        vertical-align: middle;\n",
       "    }\n",
       "\n",
       "    .dataframe tbody tr th {\n",
       "        vertical-align: top;\n",
       "    }\n",
       "\n",
       "    .dataframe thead th {\n",
       "        text-align: right;\n",
       "    }\n",
       "</style>\n",
       "<table border=\"1\" class=\"dataframe\">\n",
       "  <thead>\n",
       "    <tr style=\"text-align: right;\">\n",
       "      <th></th>\n",
       "      <th>Marca</th>\n",
       "      <th>Dia_de_semana</th>\n",
       "      <th>Horario</th>\n",
       "      <th>Dia</th>\n",
       "      <th>Satisfação Geral</th>\n",
       "      <th>Motivos da Satisfação</th>\n",
       "      <th>Expectativa Atendida</th>\n",
       "      <th>Qualidade Percebida</th>\n",
       "      <th>Gênero</th>\n",
       "      <th>Faixa Etária</th>\n",
       "      <th>Formação</th>\n",
       "      <th>Ocupação</th>\n",
       "      <th>Classe Econômica</th>\n",
       "      <th>UF</th>\n",
       "      <th>NPS</th>\n",
       "    </tr>\n",
       "    <tr>\n",
       "      <th>ID</th>\n",
       "      <th></th>\n",
       "      <th></th>\n",
       "      <th></th>\n",
       "      <th></th>\n",
       "      <th></th>\n",
       "      <th></th>\n",
       "      <th></th>\n",
       "      <th></th>\n",
       "      <th></th>\n",
       "      <th></th>\n",
       "      <th></th>\n",
       "      <th></th>\n",
       "      <th></th>\n",
       "      <th></th>\n",
       "      <th></th>\n",
       "    </tr>\n",
       "  </thead>\n",
       "  <tbody>\n",
       "    <tr>\n",
       "      <th>137</th>\n",
       "      <td>Marca 7</td>\n",
       "      <td>Tuesday</td>\n",
       "      <td>16:39:15</td>\n",
       "      <td>2022-08-09</td>\n",
       "      <td>Positiva</td>\n",
       "      <td>Custo-Benefício</td>\n",
       "      <td>Dentro das Expectativas</td>\n",
       "      <td>Próximo ao Ideal</td>\n",
       "      <td>Masculino</td>\n",
       "      <td>17 a 34 anos</td>\n",
       "      <td>Outros</td>\n",
       "      <td>Empregado CLT</td>\n",
       "      <td>De 2.900 a 7.100 reais</td>\n",
       "      <td>SP</td>\n",
       "      <td>9</td>\n",
       "    </tr>\n",
       "    <tr>\n",
       "      <th>138</th>\n",
       "      <td>Marca 9</td>\n",
       "      <td>Tuesday</td>\n",
       "      <td>16:42:49</td>\n",
       "      <td>2022-08-09</td>\n",
       "      <td>Positiva</td>\n",
       "      <td>Facilidade</td>\n",
       "      <td>Dentro das Expectativas</td>\n",
       "      <td>Muito próximo do ideal</td>\n",
       "      <td>Masculino</td>\n",
       "      <td>60 anos ou mais</td>\n",
       "      <td>Outros</td>\n",
       "      <td>Funcionário público</td>\n",
       "      <td>Até 2.900 reais</td>\n",
       "      <td>SP</td>\n",
       "      <td>10</td>\n",
       "    </tr>\n",
       "    <tr>\n",
       "      <th>185</th>\n",
       "      <td>Marca 2</td>\n",
       "      <td>Tuesday</td>\n",
       "      <td>17:29:25</td>\n",
       "      <td>2022-08-09</td>\n",
       "      <td>Positiva</td>\n",
       "      <td>Custo-Benefício</td>\n",
       "      <td>Dentro das Expectativas</td>\n",
       "      <td>É um plano regular</td>\n",
       "      <td>Feminino</td>\n",
       "      <td>45 a 59 anos</td>\n",
       "      <td>Ensino superior completo</td>\n",
       "      <td>Autônomo</td>\n",
       "      <td>Até 2.900 reais</td>\n",
       "      <td>SP</td>\n",
       "      <td>7</td>\n",
       "    </tr>\n",
       "    <tr>\n",
       "      <th>160</th>\n",
       "      <td>Marca 3</td>\n",
       "      <td>Tuesday</td>\n",
       "      <td>18:09:03</td>\n",
       "      <td>2022-08-09</td>\n",
       "      <td>Negativa</td>\n",
       "      <td>Mais de um motivo</td>\n",
       "      <td>Abaixo das Expectativas</td>\n",
       "      <td>É um plano regular</td>\n",
       "      <td>Feminino</td>\n",
       "      <td>45 a 59 anos</td>\n",
       "      <td>Pós-graduação / Mestrado</td>\n",
       "      <td>Prefiro não responder</td>\n",
       "      <td>Prefiro não responder</td>\n",
       "      <td>SP</td>\n",
       "      <td>3</td>\n",
       "    </tr>\n",
       "    <tr>\n",
       "      <th>147</th>\n",
       "      <td>Outros</td>\n",
       "      <td>Tuesday</td>\n",
       "      <td>18:30:13</td>\n",
       "      <td>2022-08-09</td>\n",
       "      <td>Positiva</td>\n",
       "      <td>Qualidade</td>\n",
       "      <td>Acima das Expectativas</td>\n",
       "      <td>Próximo ao Ideal</td>\n",
       "      <td>Feminino</td>\n",
       "      <td>45 a 59 anos</td>\n",
       "      <td>Ensino superior completo</td>\n",
       "      <td>Funcionário público</td>\n",
       "      <td>De 2.900 a 7.100 reais</td>\n",
       "      <td>SP</td>\n",
       "      <td>10</td>\n",
       "    </tr>\n",
       "  </tbody>\n",
       "</table>\n",
       "</div>"
      ],
      "text/plain": [
       "       Marca Dia_de_semana    Horario         Dia Satisfação Geral   \n",
       "ID                                                                   \n",
       "137  Marca 7       Tuesday   16:39:15  2022-08-09         Positiva  \\\n",
       "138  Marca 9       Tuesday   16:42:49  2022-08-09         Positiva   \n",
       "185  Marca 2       Tuesday   17:29:25  2022-08-09         Positiva   \n",
       "160  Marca 3       Tuesday   18:09:03  2022-08-09         Negativa   \n",
       "147   Outros       Tuesday   18:30:13  2022-08-09         Positiva   \n",
       "\n",
       "    Motivos da Satisfação     Expectativa Atendida     Qualidade Percebida   \n",
       "ID                                                                           \n",
       "137       Custo-Benefício  Dentro das Expectativas        Próximo ao Ideal  \\\n",
       "138            Facilidade  Dentro das Expectativas  Muito próximo do ideal   \n",
       "185       Custo-Benefício  Dentro das Expectativas      É um plano regular   \n",
       "160     Mais de um motivo  Abaixo das Expectativas      É um plano regular   \n",
       "147             Qualidade   Acima das Expectativas        Próximo ao Ideal   \n",
       "\n",
       "        Gênero     Faixa Etária                  Formação   \n",
       "ID                                                          \n",
       "137  Masculino     17 a 34 anos                    Outros  \\\n",
       "138  Masculino  60 anos ou mais                    Outros   \n",
       "185   Feminino     45 a 59 anos  Ensino superior completo   \n",
       "160   Feminino     45 a 59 anos  Pós-graduação / Mestrado   \n",
       "147   Feminino     45 a 59 anos  Ensino superior completo   \n",
       "\n",
       "                  Ocupação        Classe Econômica  UF  NPS  \n",
       "ID                                                           \n",
       "137          Empregado CLT  De 2.900 a 7.100 reais  SP    9  \n",
       "138    Funcionário público         Até 2.900 reais  SP   10  \n",
       "185               Autônomo         Até 2.900 reais  SP    7  \n",
       "160  Prefiro não responder   Prefiro não responder  SP    3  \n",
       "147    Funcionário público  De 2.900 a 7.100 reais  SP   10  "
      ]
     },
     "execution_count": 15,
     "metadata": {},
     "output_type": "execute_result"
    }
   ],
   "source": [
    "base = base[['Marca', 'Dia_de_semana', 'Horario', 'Dia',\n",
    "            'Satisfação Geral', 'Motivos da Satisfação', \n",
    "            'Expectativa Atendida', 'Qualidade Percebida', 'Gênero', 'Faixa Etária', 'Formação',\n",
    "            'Ocupação', 'Classe Econômica', 'UF', 'NPS']]\n",
    "base.head()"
   ]
  },
  {
   "attachments": {},
   "cell_type": "markdown",
   "metadata": {},
   "source": [
    "Por fim, salvando os dados em um arquivo '.xlsx',"
   ]
  },
  {
   "cell_type": "code",
   "execution_count": 16,
   "metadata": {},
   "outputs": [],
   "source": [
    "base.to_excel('dados\\\\base_final.xlsx')"
   ]
  }
 ],
 "metadata": {
  "kernelspec": {
   "display_name": "Python 3",
   "language": "python",
   "name": "python3"
  },
  "language_info": {
   "codemirror_mode": {
    "name": "ipython",
    "version": 3
   },
   "file_extension": ".py",
   "mimetype": "text/x-python",
   "name": "python",
   "nbconvert_exporter": "python",
   "pygments_lexer": "ipython3",
   "version": "3.8.0"
  },
  "orig_nbformat": 4
 },
 "nbformat": 4,
 "nbformat_minor": 2
}
